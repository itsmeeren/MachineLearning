{
 "cells": [
  {
   "cell_type": "code",
   "id": "c1336db6-bd86-473c-b08d-d676ac4250cf",
   "metadata": {
    "jupyter": {
     "is_executing": true
    }
   },
   "source": "import tensorflow as tf",
   "outputs": [],
   "execution_count": null
  },
  {
   "metadata": {},
   "cell_type": "code",
   "outputs": [],
   "execution_count": null,
   "source": "",
   "id": "37b5306a6bc7a17f"
  }
 ],
 "metadata": {
  "kernelspec": {
   "display_name": "",
   "name": ""
  },
  "language_info": {
   "name": ""
  }
 },
 "nbformat": 4,
 "nbformat_minor": 5
}
