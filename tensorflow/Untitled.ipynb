{
 "cells": [
  {
   "cell_type": "code",
   "execution_count": null,
   "id": "c1336db6-bd86-473c-b08d-d676ac4250cf",
   "metadata": {},
   "outputs": [],
   "source": []
  }
 ],
 "metadata": {
  "kernelspec": {
   "display_name": "",
   "name": ""
  },
  "language_info": {
   "name": ""
  }
 },
 "nbformat": 4,
 "nbformat_minor": 5
}
